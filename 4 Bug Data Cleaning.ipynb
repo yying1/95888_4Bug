{
 "cells": [
  {
   "cell_type": "code",
   "execution_count": 41,
   "id": "3e4da110",
   "metadata": {},
   "outputs": [],
   "source": [
    "import numpy as np\n",
    "\n",
    "import pandas as pd\n",
    "\n",
    "import matplotlib.pyplot as plt\n",
    "\n",
    "import seaborn as sns"
   ]
  },
  {
   "cell_type": "code",
   "execution_count": 42,
   "id": "e79d0d64",
   "metadata": {},
   "outputs": [],
   "source": [
    "### Read the Amazon Review Result\n",
    "\n",
    "Data = pd.read_excel(\"AmazonReview.xlsx\", header = 0)\n",
    "\n",
    "AZ = pd.DataFrame(Data)"
   ]
  },
  {
   "cell_type": "code",
   "execution_count": 43,
   "id": "5e4889a6",
   "metadata": {},
   "outputs": [
    {
     "data": {
      "text/html": [
       "<div>\n",
       "<style scoped>\n",
       "    .dataframe tbody tr th:only-of-type {\n",
       "        vertical-align: middle;\n",
       "    }\n",
       "\n",
       "    .dataframe tbody tr th {\n",
       "        vertical-align: top;\n",
       "    }\n",
       "\n",
       "    .dataframe thead th {\n",
       "        text-align: right;\n",
       "    }\n",
       "</style>\n",
       "<table border=\"1\" class=\"dataframe\">\n",
       "  <thead>\n",
       "    <tr style=\"text-align: right;\">\n",
       "      <th></th>\n",
       "      <th>title</th>\n",
       "      <th>date</th>\n",
       "      <th>rating</th>\n",
       "      <th>review</th>\n",
       "    </tr>\n",
       "  </thead>\n",
       "  <tbody>\n",
       "    <tr>\n",
       "      <th>0</th>\n",
       "      <td>Very good 5 dollar espresso maker</td>\n",
       "      <td>Reviewed in the United States on January 27, 2020</td>\n",
       "      <td>5.0 out of 5 stars</td>\n",
       "      <td>I love the 1 star reviews, especially the guy ...</td>\n",
       "    </tr>\n",
       "    <tr>\n",
       "      <th>1</th>\n",
       "      <td>An Excellent Pot.  Americans: Please Read This...</td>\n",
       "      <td>Reviewed in the United States on June 18, 2020</td>\n",
       "      <td>5.0 out of 5 stars</td>\n",
       "      <td>It is an excellent pot and exactly the one we ...</td>\n",
       "    </tr>\n",
       "    <tr>\n",
       "      <th>2</th>\n",
       "      <td>DISAPPOINTED!!!  NOT 6 CUPS!!!!!</td>\n",
       "      <td>Reviewed in the United States on May 4, 2019</td>\n",
       "      <td>1.0 out of 5 stars</td>\n",
       "      <td>Works like it’s supposed to, however, to say i...</td>\n",
       "    </tr>\n",
       "    <tr>\n",
       "      <th>3</th>\n",
       "      <td>Dangerous product - they missed quality control</td>\n",
       "      <td>Reviewed in the United States on July 25, 2019</td>\n",
       "      <td>1.0 out of 5 stars</td>\n",
       "      <td>We have 30+ yrs experience using Italian espre...</td>\n",
       "    </tr>\n",
       "    <tr>\n",
       "      <th>4</th>\n",
       "      <td>Does what it is supposed to and very reasonabl...</td>\n",
       "      <td>Reviewed in the United States on August 21, 2016</td>\n",
       "      <td>5.0 out of 5 stars</td>\n",
       "      <td>I am loving this expresso maker. It was inexpe...</td>\n",
       "    </tr>\n",
       "  </tbody>\n",
       "</table>\n",
       "</div>"
      ],
      "text/plain": [
       "                                               title  \\\n",
       "0                  Very good 5 dollar espresso maker   \n",
       "1  An Excellent Pot.  Americans: Please Read This...   \n",
       "2                   DISAPPOINTED!!!  NOT 6 CUPS!!!!!   \n",
       "3    Dangerous product - they missed quality control   \n",
       "4  Does what it is supposed to and very reasonabl...   \n",
       "\n",
       "                                                date              rating  \\\n",
       "0  Reviewed in the United States on January 27, 2020  5.0 out of 5 stars   \n",
       "1     Reviewed in the United States on June 18, 2020  5.0 out of 5 stars   \n",
       "2       Reviewed in the United States on May 4, 2019  1.0 out of 5 stars   \n",
       "3     Reviewed in the United States on July 25, 2019  1.0 out of 5 stars   \n",
       "4   Reviewed in the United States on August 21, 2016  5.0 out of 5 stars   \n",
       "\n",
       "                                              review  \n",
       "0  I love the 1 star reviews, especially the guy ...  \n",
       "1  It is an excellent pot and exactly the one we ...  \n",
       "2  Works like it’s supposed to, however, to say i...  \n",
       "3  We have 30+ yrs experience using Italian espre...  \n",
       "4  I am loving this expresso maker. It was inexpe...  "
      ]
     },
     "execution_count": 43,
     "metadata": {},
     "output_type": "execute_result"
    }
   ],
   "source": [
    "AZ.head()"
   ]
  },
  {
   "cell_type": "code",
   "execution_count": 44,
   "id": "240d943a",
   "metadata": {},
   "outputs": [
    {
     "data": {
      "text/html": [
       "<div>\n",
       "<style scoped>\n",
       "    .dataframe tbody tr th:only-of-type {\n",
       "        vertical-align: middle;\n",
       "    }\n",
       "\n",
       "    .dataframe tbody tr th {\n",
       "        vertical-align: top;\n",
       "    }\n",
       "\n",
       "    .dataframe thead th {\n",
       "        text-align: right;\n",
       "    }\n",
       "</style>\n",
       "<table border=\"1\" class=\"dataframe\">\n",
       "  <thead>\n",
       "    <tr style=\"text-align: right;\">\n",
       "      <th></th>\n",
       "      <th>title</th>\n",
       "      <th>date</th>\n",
       "      <th>rating</th>\n",
       "      <th>review</th>\n",
       "    </tr>\n",
       "  </thead>\n",
       "  <tbody>\n",
       "    <tr>\n",
       "      <th>0</th>\n",
       "      <td>Very good 5 dollar espresso maker</td>\n",
       "      <td>Reviewed in the United States on January 27, 2020</td>\n",
       "      <td>5.0 out of 5 stars</td>\n",
       "      <td>I love the 1 star reviews, especially the guy ...</td>\n",
       "    </tr>\n",
       "    <tr>\n",
       "      <th>1</th>\n",
       "      <td>An Excellent Pot.  Americans: Please Read This...</td>\n",
       "      <td>Reviewed in the United States on June 18, 2020</td>\n",
       "      <td>5.0 out of 5 stars</td>\n",
       "      <td>It is an excellent pot and exactly the one we ...</td>\n",
       "    </tr>\n",
       "    <tr>\n",
       "      <th>2</th>\n",
       "      <td>DISAPPOINTED!!!  NOT 6 CUPS!!!!!</td>\n",
       "      <td>Reviewed in the United States on May 4, 2019</td>\n",
       "      <td>1.0 out of 5 stars</td>\n",
       "      <td>Works like it’s supposed to, however, to say i...</td>\n",
       "    </tr>\n",
       "    <tr>\n",
       "      <th>3</th>\n",
       "      <td>Dangerous product - they missed quality control</td>\n",
       "      <td>Reviewed in the United States on July 25, 2019</td>\n",
       "      <td>1.0 out of 5 stars</td>\n",
       "      <td>We have 30+ yrs experience using Italian espre...</td>\n",
       "    </tr>\n",
       "    <tr>\n",
       "      <th>4</th>\n",
       "      <td>Does what it is supposed to and very reasonabl...</td>\n",
       "      <td>Reviewed in the United States on August 21, 2016</td>\n",
       "      <td>5.0 out of 5 stars</td>\n",
       "      <td>I am loving this expresso maker. It was inexpe...</td>\n",
       "    </tr>\n",
       "    <tr>\n",
       "      <th>...</th>\n",
       "      <td>...</td>\n",
       "      <td>...</td>\n",
       "      <td>...</td>\n",
       "      <td>...</td>\n",
       "    </tr>\n",
       "    <tr>\n",
       "      <th>971</th>\n",
       "      <td>all is good!</td>\n",
       "      <td>Reviewed in the United States on November 18, ...</td>\n",
       "      <td>5.0 out of 5 stars</td>\n",
       "      <td>Love it!</td>\n",
       "    </tr>\n",
       "    <tr>\n",
       "      <th>972</th>\n",
       "      <td>Recommend it</td>\n",
       "      <td>Reviewed in the United States on November 17, ...</td>\n",
       "      <td>5.0 out of 5 stars</td>\n",
       "      <td>Good price and decent quality</td>\n",
       "    </tr>\n",
       "    <tr>\n",
       "      <th>973</th>\n",
       "      <td>Expected a 6-cup Maker - Not close</td>\n",
       "      <td>Reviewed in the United States on November 2, 2020</td>\n",
       "      <td>1.0 out of 5 stars</td>\n",
       "      <td>False advertising.  This is not a 6-cup maker....</td>\n",
       "    </tr>\n",
       "    <tr>\n",
       "      <th>974</th>\n",
       "      <td>6 cups equals 6 oz. in the US</td>\n",
       "      <td>Reviewed in the United States on March 30, 2021</td>\n",
       "      <td>4.0 out of 5 stars</td>\n",
       "      <td>I was so excited to find this manual stove top...</td>\n",
       "    </tr>\n",
       "    <tr>\n",
       "      <th>975</th>\n",
       "      <td>Not a Bialetti and it shows, lightweight.</td>\n",
       "      <td>Reviewed in the United States on March 26, 2021</td>\n",
       "      <td>2.0 out of 5 stars</td>\n",
       "      <td>This is cheap and lightweight. When you compar...</td>\n",
       "    </tr>\n",
       "  </tbody>\n",
       "</table>\n",
       "<p>976 rows × 4 columns</p>\n",
       "</div>"
      ],
      "text/plain": [
       "                                                 title  \\\n",
       "0                    Very good 5 dollar espresso maker   \n",
       "1    An Excellent Pot.  Americans: Please Read This...   \n",
       "2                     DISAPPOINTED!!!  NOT 6 CUPS!!!!!   \n",
       "3      Dangerous product - they missed quality control   \n",
       "4    Does what it is supposed to and very reasonabl...   \n",
       "..                                                 ...   \n",
       "971                                       all is good!   \n",
       "972                                       Recommend it   \n",
       "973                 Expected a 6-cup Maker - Not close   \n",
       "974                      6 cups equals 6 oz. in the US   \n",
       "975          Not a Bialetti and it shows, lightweight.   \n",
       "\n",
       "                                                  date              rating  \\\n",
       "0    Reviewed in the United States on January 27, 2020  5.0 out of 5 stars   \n",
       "1       Reviewed in the United States on June 18, 2020  5.0 out of 5 stars   \n",
       "2         Reviewed in the United States on May 4, 2019  1.0 out of 5 stars   \n",
       "3       Reviewed in the United States on July 25, 2019  1.0 out of 5 stars   \n",
       "4     Reviewed in the United States on August 21, 2016  5.0 out of 5 stars   \n",
       "..                                                 ...                 ...   \n",
       "971  Reviewed in the United States on November 18, ...  5.0 out of 5 stars   \n",
       "972  Reviewed in the United States on November 17, ...  5.0 out of 5 stars   \n",
       "973  Reviewed in the United States on November 2, 2020  1.0 out of 5 stars   \n",
       "974    Reviewed in the United States on March 30, 2021  4.0 out of 5 stars   \n",
       "975    Reviewed in the United States on March 26, 2021  2.0 out of 5 stars   \n",
       "\n",
       "                                                review  \n",
       "0    I love the 1 star reviews, especially the guy ...  \n",
       "1    It is an excellent pot and exactly the one we ...  \n",
       "2    Works like it’s supposed to, however, to say i...  \n",
       "3    We have 30+ yrs experience using Italian espre...  \n",
       "4    I am loving this expresso maker. It was inexpe...  \n",
       "..                                                 ...  \n",
       "971                                           Love it!  \n",
       "972                      Good price and decent quality  \n",
       "973  False advertising.  This is not a 6-cup maker....  \n",
       "974  I was so excited to find this manual stove top...  \n",
       "975  This is cheap and lightweight. When you compar...  \n",
       "\n",
       "[976 rows x 4 columns]"
      ]
     },
     "execution_count": 44,
     "metadata": {},
     "output_type": "execute_result"
    }
   ],
   "source": [
    "AZ.dropna()"
   ]
  },
  {
   "cell_type": "code",
   "execution_count": 45,
   "id": "c74991fa",
   "metadata": {},
   "outputs": [
    {
     "data": {
      "text/html": [
       "<div>\n",
       "<style scoped>\n",
       "    .dataframe tbody tr th:only-of-type {\n",
       "        vertical-align: middle;\n",
       "    }\n",
       "\n",
       "    .dataframe tbody tr th {\n",
       "        vertical-align: top;\n",
       "    }\n",
       "\n",
       "    .dataframe thead th {\n",
       "        text-align: right;\n",
       "    }\n",
       "</style>\n",
       "<table border=\"1\" class=\"dataframe\">\n",
       "  <thead>\n",
       "    <tr style=\"text-align: right;\">\n",
       "      <th></th>\n",
       "      <th>title</th>\n",
       "      <th>date</th>\n",
       "      <th>rating</th>\n",
       "      <th>review</th>\n",
       "    </tr>\n",
       "  </thead>\n",
       "  <tbody>\n",
       "    <tr>\n",
       "      <th>0</th>\n",
       "      <td>Very good 5 dollar espresso maker</td>\n",
       "      <td>Reviewed in the United States on January 27, 2020</td>\n",
       "      <td>5.0 out of 5 stars</td>\n",
       "      <td>I love the 1 star reviews, especially the guy ...</td>\n",
       "    </tr>\n",
       "    <tr>\n",
       "      <th>1</th>\n",
       "      <td>An Excellent Pot.  Americans: Please Read This...</td>\n",
       "      <td>Reviewed in the United States on June 18, 2020</td>\n",
       "      <td>5.0 out of 5 stars</td>\n",
       "      <td>It is an excellent pot and exactly the one we ...</td>\n",
       "    </tr>\n",
       "    <tr>\n",
       "      <th>2</th>\n",
       "      <td>DISAPPOINTED!!!  NOT 6 CUPS!!!!!</td>\n",
       "      <td>Reviewed in the United States on May 4, 2019</td>\n",
       "      <td>1.0 out of 5 stars</td>\n",
       "      <td>Works like it’s supposed to, however, to say i...</td>\n",
       "    </tr>\n",
       "    <tr>\n",
       "      <th>3</th>\n",
       "      <td>Dangerous product - they missed quality control</td>\n",
       "      <td>Reviewed in the United States on July 25, 2019</td>\n",
       "      <td>1.0 out of 5 stars</td>\n",
       "      <td>We have 30+ yrs experience using Italian espre...</td>\n",
       "    </tr>\n",
       "    <tr>\n",
       "      <th>4</th>\n",
       "      <td>Does what it is supposed to and very reasonabl...</td>\n",
       "      <td>Reviewed in the United States on August 21, 2016</td>\n",
       "      <td>5.0 out of 5 stars</td>\n",
       "      <td>I am loving this expresso maker. It was inexpe...</td>\n",
       "    </tr>\n",
       "    <tr>\n",
       "      <th>...</th>\n",
       "      <td>...</td>\n",
       "      <td>...</td>\n",
       "      <td>...</td>\n",
       "      <td>...</td>\n",
       "    </tr>\n",
       "    <tr>\n",
       "      <th>971</th>\n",
       "      <td>all is good!</td>\n",
       "      <td>Reviewed in the United States on November 18, ...</td>\n",
       "      <td>5.0 out of 5 stars</td>\n",
       "      <td>Love it!</td>\n",
       "    </tr>\n",
       "    <tr>\n",
       "      <th>972</th>\n",
       "      <td>Recommend it</td>\n",
       "      <td>Reviewed in the United States on November 17, ...</td>\n",
       "      <td>5.0 out of 5 stars</td>\n",
       "      <td>Good price and decent quality</td>\n",
       "    </tr>\n",
       "    <tr>\n",
       "      <th>973</th>\n",
       "      <td>Expected a 6-cup Maker - Not close</td>\n",
       "      <td>Reviewed in the United States on November 2, 2020</td>\n",
       "      <td>1.0 out of 5 stars</td>\n",
       "      <td>False advertising.  This is not a 6-cup maker....</td>\n",
       "    </tr>\n",
       "    <tr>\n",
       "      <th>974</th>\n",
       "      <td>6 cups equals 6 oz. in the US</td>\n",
       "      <td>Reviewed in the United States on March 30, 2021</td>\n",
       "      <td>4.0 out of 5 stars</td>\n",
       "      <td>I was so excited to find this manual stove top...</td>\n",
       "    </tr>\n",
       "    <tr>\n",
       "      <th>975</th>\n",
       "      <td>Not a Bialetti and it shows, lightweight.</td>\n",
       "      <td>Reviewed in the United States on March 26, 2021</td>\n",
       "      <td>2.0 out of 5 stars</td>\n",
       "      <td>This is cheap and lightweight. When you compar...</td>\n",
       "    </tr>\n",
       "  </tbody>\n",
       "</table>\n",
       "<p>976 rows × 4 columns</p>\n",
       "</div>"
      ],
      "text/plain": [
       "                                                 title  \\\n",
       "0                    Very good 5 dollar espresso maker   \n",
       "1    An Excellent Pot.  Americans: Please Read This...   \n",
       "2                     DISAPPOINTED!!!  NOT 6 CUPS!!!!!   \n",
       "3      Dangerous product - they missed quality control   \n",
       "4    Does what it is supposed to and very reasonabl...   \n",
       "..                                                 ...   \n",
       "971                                       all is good!   \n",
       "972                                       Recommend it   \n",
       "973                 Expected a 6-cup Maker - Not close   \n",
       "974                      6 cups equals 6 oz. in the US   \n",
       "975          Not a Bialetti and it shows, lightweight.   \n",
       "\n",
       "                                                  date              rating  \\\n",
       "0    Reviewed in the United States on January 27, 2020  5.0 out of 5 stars   \n",
       "1       Reviewed in the United States on June 18, 2020  5.0 out of 5 stars   \n",
       "2         Reviewed in the United States on May 4, 2019  1.0 out of 5 stars   \n",
       "3       Reviewed in the United States on July 25, 2019  1.0 out of 5 stars   \n",
       "4     Reviewed in the United States on August 21, 2016  5.0 out of 5 stars   \n",
       "..                                                 ...                 ...   \n",
       "971  Reviewed in the United States on November 18, ...  5.0 out of 5 stars   \n",
       "972  Reviewed in the United States on November 17, ...  5.0 out of 5 stars   \n",
       "973  Reviewed in the United States on November 2, 2020  1.0 out of 5 stars   \n",
       "974    Reviewed in the United States on March 30, 2021  4.0 out of 5 stars   \n",
       "975    Reviewed in the United States on March 26, 2021  2.0 out of 5 stars   \n",
       "\n",
       "                                                review  \n",
       "0    I love the 1 star reviews, especially the guy ...  \n",
       "1    It is an excellent pot and exactly the one we ...  \n",
       "2    Works like it’s supposed to, however, to say i...  \n",
       "3    We have 30+ yrs experience using Italian espre...  \n",
       "4    I am loving this expresso maker. It was inexpe...  \n",
       "..                                                 ...  \n",
       "971                                           Love it!  \n",
       "972                      Good price and decent quality  \n",
       "973  False advertising.  This is not a 6-cup maker....  \n",
       "974  I was so excited to find this manual stove top...  \n",
       "975  This is cheap and lightweight. When you compar...  \n",
       "\n",
       "[976 rows x 4 columns]"
      ]
     },
     "execution_count": 45,
     "metadata": {},
     "output_type": "execute_result"
    }
   ],
   "source": [
    "AZ.dropna(how='all')"
   ]
  },
  {
   "cell_type": "code",
   "execution_count": 46,
   "id": "cade6242",
   "metadata": {},
   "outputs": [],
   "source": [
    "AZ.dropna(inplace=True)"
   ]
  },
  {
   "cell_type": "code",
   "execution_count": 47,
   "id": "ea79ca5b",
   "metadata": {},
   "outputs": [
    {
     "data": {
      "text/plain": [
       "0      5.0 out of 5 stars\n",
       "1      5.0 out of 5 stars\n",
       "2      1.0 out of 5 stars\n",
       "3      1.0 out of 5 stars\n",
       "4      5.0 out of 5 stars\n",
       "              ...        \n",
       "971    5.0 out of 5 stars\n",
       "972    5.0 out of 5 stars\n",
       "973    1.0 out of 5 stars\n",
       "974    4.0 out of 5 stars\n",
       "975    2.0 out of 5 stars\n",
       "Name: rating, Length: 976, dtype: object"
      ]
     },
     "execution_count": 47,
     "metadata": {},
     "output_type": "execute_result"
    }
   ],
   "source": [
    "### View the Rating Column\n",
    "\n",
    "AZ['rating']"
   ]
  },
  {
   "cell_type": "code",
   "execution_count": 48,
   "id": "c62c0d27",
   "metadata": {},
   "outputs": [
    {
     "name": "stdout",
     "output_type": "stream",
     "text": [
      "0      5.0\n",
      "1      5.0\n",
      "2      1.0\n",
      "3      1.0\n",
      "4      5.0\n",
      "      ... \n",
      "971    5.0\n",
      "972    5.0\n",
      "973    1.0\n",
      "974    4.0\n",
      "975    2.0\n",
      "Name: rating, Length: 976, dtype: object\n"
     ]
    }
   ],
   "source": [
    "AZ['rating'] = AZ['rating'].str.replace(' out of 5 stars', '')\n",
    "\n",
    "print(AZ['rating'])"
   ]
  },
  {
   "cell_type": "code",
   "execution_count": 49,
   "id": "0c1bf2f0",
   "metadata": {},
   "outputs": [
    {
     "name": "stdout",
     "output_type": "stream",
     "text": [
      "0             Love\n",
      "1             Love\n",
      "2             Hate\n",
      "3             Hate\n",
      "4             Love\n",
      "          ...     \n",
      "971           Love\n",
      "972           Love\n",
      "973           Hate\n",
      "974           Like\n",
      "975    Do Not Like\n",
      "Name: rating, Length: 976, dtype: object\n"
     ]
    }
   ],
   "source": [
    "#### Change each rating score to categorical name\n",
    "\n",
    "## 1.0 = Hate\n",
    "\n",
    "## 2.0 = Do Not Like\n",
    "\n",
    "## 3.0 = Okay\n",
    "\n",
    "## 4.0 = Like\n",
    "\n",
    "## 5.0 = Love\n",
    "\n",
    "AZ['rating'] = AZ['rating'].replace(['1.0', '2.0', '3.0', '4.0', '5.0'], ['Hate', 'Do Not Like', 'Okay', 'Like', 'Love'])\n",
    "\n",
    "print(AZ['rating'])"
   ]
  },
  {
   "cell_type": "code",
   "execution_count": 50,
   "id": "52a7906f",
   "metadata": {},
   "outputs": [
    {
     "data": {
      "text/plain": [
       "Love           580\n",
       "Hate           138\n",
       "Like            97\n",
       "Okay            94\n",
       "Do Not Like     67\n",
       "Name: rating, dtype: int64"
      ]
     },
     "execution_count": 50,
     "metadata": {},
     "output_type": "execute_result"
    }
   ],
   "source": [
    "AZ['rating'].value_counts()"
   ]
  },
  {
   "cell_type": "code",
   "execution_count": 63,
   "id": "34e87a75",
   "metadata": {},
   "outputs": [
    {
     "data": {
      "text/plain": [
       "<Figure size 576x288 with 0 Axes>"
      ]
     },
     "metadata": {},
     "output_type": "display_data"
    },
    {
     "data": {
      "image/png": "[encoded data removed]",
      "text/plain": [
       "<Figure size 432x288 with 1 Axes>"
      ]
     },
     "metadata": {
      "needs_background": "light"
     },
     "output_type": "display_data"
    }
   ],
   "source": [
    "## Do the categorical variables in Count plot\n",
    "\n",
    "plt.figure(figsize=(8,4))\n",
    "\n",
    "fig = plt.figure()\n",
    "\n",
    "sns.countplot(x = 'rating', data= AZ)\n",
    "\n",
    "fig.savefig('Rating.jpg')"
   ]
  },
  {
   "cell_type": "code",
   "execution_count": 12,
   "id": "f95cfbf1",
   "metadata": {},
   "outputs": [
    {
     "data": {
      "text/plain": [
       "0      I love the 1 star reviews, especially the guy ...\n",
       "1      It is an excellent pot and exactly the one we ...\n",
       "2      Works like it’s supposed to, however, to say i...\n",
       "3      We have 30+ yrs experience using Italian espre...\n",
       "4      I am loving this expresso maker. It was inexpe...\n",
       "                             ...                        \n",
       "971                                             Love it!\n",
       "972                        Good price and decent quality\n",
       "973    False advertising.  This is not a 6-cup maker....\n",
       "974    I was so excited to find this manual stove top...\n",
       "975    This is cheap and lightweight. When you compar...\n",
       "Name: review, Length: 976, dtype: object"
      ]
     },
     "execution_count": 12,
     "metadata": {},
     "output_type": "execute_result"
    }
   ],
   "source": [
    "AZ[\"review\"]"
   ]
  },
  {
   "cell_type": "code",
   "execution_count": 13,
   "id": "f391c1a6",
   "metadata": {},
   "outputs": [
    {
     "data": {
      "text/html": [
       "<div>\n",
       "<style scoped>\n",
       "    .dataframe tbody tr th:only-of-type {\n",
       "        vertical-align: middle;\n",
       "    }\n",
       "\n",
       "    .dataframe tbody tr th {\n",
       "        vertical-align: top;\n",
       "    }\n",
       "\n",
       "    .dataframe thead th {\n",
       "        text-align: right;\n",
       "    }\n",
       "</style>\n",
       "<table border=\"1\" class=\"dataframe\">\n",
       "  <thead>\n",
       "    <tr style=\"text-align: right;\">\n",
       "      <th></th>\n",
       "      <th>Terms</th>\n",
       "    </tr>\n",
       "  </thead>\n",
       "  <tbody>\n",
       "    <tr>\n",
       "      <th>0</th>\n",
       "      <td>Accepting</td>\n",
       "    </tr>\n",
       "    <tr>\n",
       "      <th>1</th>\n",
       "      <td>Accessible</td>\n",
       "    </tr>\n",
       "    <tr>\n",
       "      <th>2</th>\n",
       "      <td>Accommodating</td>\n",
       "    </tr>\n",
       "    <tr>\n",
       "      <th>3</th>\n",
       "      <td>Accountable</td>\n",
       "    </tr>\n",
       "    <tr>\n",
       "      <th>4</th>\n",
       "      <td>Action-Oriented</td>\n",
       "    </tr>\n",
       "  </tbody>\n",
       "</table>\n",
       "</div>"
      ],
      "text/plain": [
       "             Terms\n",
       "0        Accepting\n",
       "1       Accessible\n",
       "2    Accommodating\n",
       "3      Accountable\n",
       "4  Action-Oriented"
      ]
     },
     "execution_count": 13,
     "metadata": {},
     "output_type": "execute_result"
    }
   ],
   "source": [
    "TS = pd.read_csv(\"terms.csv\", header = 0)\n",
    "\n",
    "TS.head()"
   ]
  },
  {
   "cell_type": "code",
   "execution_count": 14,
   "id": "4ef6ea95",
   "metadata": {},
   "outputs": [],
   "source": [
    "for tup in TS.itertuples(index=False):\n",
    "    mask = AZ['review'].str.contains(tup.Terms, regex=False)\n",
    "    TS.loc[mask, 'Match'] = tup.Terms"
   ]
  },
  {
   "cell_type": "code",
   "execution_count": 15,
   "id": "a0d91879",
   "metadata": {},
   "outputs": [
    {
     "name": "stdout",
     "output_type": "stream",
     "text": [
      "             Terms Match\n",
      "0        Accepting   NaN\n",
      "1       Accessible   NaN\n",
      "2    Accommodating   NaN\n",
      "3      Accountable   NaN\n",
      "4  Action-Oriented   NaN\n"
     ]
    }
   ],
   "source": [
    "print(TS.head())"
   ]
  },
  {
   "cell_type": "code",
   "execution_count": 16,
   "id": "6faa9229",
   "metadata": {},
   "outputs": [],
   "source": [
    "TS = TS.dropna()"
   ]
  },
  {
   "cell_type": "code",
   "execution_count": 17,
   "id": "bfd5d0c6",
   "metadata": {},
   "outputs": [
    {
     "data": {
      "text/html": [
       "<div>\n",
       "<style scoped>\n",
       "    .dataframe tbody tr th:only-of-type {\n",
       "        vertical-align: middle;\n",
       "    }\n",
       "\n",
       "    .dataframe tbody tr th {\n",
       "        vertical-align: top;\n",
       "    }\n",
       "\n",
       "    .dataframe thead th {\n",
       "        text-align: right;\n",
       "    }\n",
       "</style>\n",
       "<table border=\"1\" class=\"dataframe\">\n",
       "  <thead>\n",
       "    <tr style=\"text-align: right;\">\n",
       "      <th></th>\n",
       "      <th>Terms</th>\n",
       "      <th>Match</th>\n",
       "    </tr>\n",
       "  </thead>\n",
       "  <tbody>\n",
       "    <tr>\n",
       "      <th>6</th>\n",
       "      <td>Adaptable</td>\n",
       "      <td>Amazing</td>\n",
       "    </tr>\n",
       "    <tr>\n",
       "      <th>8</th>\n",
       "      <td>Adept</td>\n",
       "      <td>Good</td>\n",
       "    </tr>\n",
       "    <tr>\n",
       "      <th>11</th>\n",
       "      <td>Adventurous</td>\n",
       "      <td>Direct</td>\n",
       "    </tr>\n",
       "    <tr>\n",
       "      <th>28</th>\n",
       "      <td>Athletic</td>\n",
       "      <td>Honest</td>\n",
       "    </tr>\n",
       "    <tr>\n",
       "      <th>35</th>\n",
       "      <td>Bold</td>\n",
       "      <td>Nice</td>\n",
       "    </tr>\n",
       "    <tr>\n",
       "      <th>...</th>\n",
       "      <td>...</td>\n",
       "      <td>...</td>\n",
       "    </tr>\n",
       "    <tr>\n",
       "      <th>447</th>\n",
       "      <td>Systematic</td>\n",
       "      <td>Awesome</td>\n",
       "    </tr>\n",
       "    <tr>\n",
       "      <th>457</th>\n",
       "      <td>Tough</td>\n",
       "      <td>Wonderful</td>\n",
       "    </tr>\n",
       "    <tr>\n",
       "      <th>463</th>\n",
       "      <td>Trustworthy</td>\n",
       "      <td>Good</td>\n",
       "    </tr>\n",
       "    <tr>\n",
       "      <th>482</th>\n",
       "      <td>Vivid</td>\n",
       "      <td>Nice</td>\n",
       "    </tr>\n",
       "    <tr>\n",
       "      <th>496</th>\n",
       "      <td>Young</td>\n",
       "      <td>Perfect</td>\n",
       "    </tr>\n",
       "  </tbody>\n",
       "</table>\n",
       "<p>64 rows × 2 columns</p>\n",
       "</div>"
      ],
      "text/plain": [
       "           Terms      Match\n",
       "6      Adaptable    Amazing\n",
       "8          Adept       Good\n",
       "11   Adventurous     Direct\n",
       "28      Athletic     Honest\n",
       "35          Bold       Nice\n",
       "..           ...        ...\n",
       "447   Systematic    Awesome\n",
       "457        Tough  Wonderful\n",
       "463  Trustworthy       Good\n",
       "482        Vivid       Nice\n",
       "496        Young    Perfect\n",
       "\n",
       "[64 rows x 2 columns]"
      ]
     },
     "execution_count": 17,
     "metadata": {},
     "output_type": "execute_result"
    }
   ],
   "source": [
    "TS"
   ]
  },
  {
   "cell_type": "code",
   "execution_count": 26,
   "id": "a4e02f0a",
   "metadata": {},
   "outputs": [
    {
     "data": {
      "text/plain": [
       "Good           11\n",
       "Perfect         7\n",
       "Clean           6\n",
       "Amazing         4\n",
       "Awesome         4\n",
       "Simple          4\n",
       "Pretty          3\n",
       "Happy           3\n",
       "Nice            3\n",
       "Solid           2\n",
       "Wonderful       2\n",
       "Fun             2\n",
       "Traditional     1\n",
       "Fit             1\n",
       "Frank           1\n",
       "Direct          1\n",
       "Honest          1\n",
       "Careful         1\n",
       "Open            1\n",
       "Light           1\n",
       "Fresh           1\n",
       "Neat            1\n",
       "Original        1\n",
       "Excellent       1\n",
       "Successful      1\n",
       "Name: Match, dtype: int64"
      ]
     },
     "execution_count": 26,
     "metadata": {},
     "output_type": "execute_result"
    }
   ],
   "source": [
    "TS['Match'].value_counts()"
   ]
  },
  {
   "cell_type": "code",
   "execution_count": 61,
   "id": "3e37de8b",
   "metadata": {},
   "outputs": [
    {
     "data": {
      "text/plain": [
       "<Figure size 1440x720 with 0 Axes>"
      ]
     },
     "metadata": {},
     "output_type": "display_data"
    },
    {
     "data": {
      "image/png": "[encoded data removed]",
      "text/plain": [
       "<Figure size 432x288 with 1 Axes>"
      ]
     },
     "metadata": {
      "needs_background": "light"
     },
     "output_type": "display_data"
    }
   ],
   "source": [
    "plt.figure(figsize=(20,10))\n",
    "fig = plt.figure()\n",
    "\n",
    "ax= sns.countplot(x = 'Match', data= TS)\n",
    "\n",
    "\n",
    "ax.set_xticklabels(ax.get_xticklabels(), rotation=40, ha=\"right\", fontsize = 10)\n",
    "plt.xlabel(\"Match\", fontsize=15)\n",
    "plt.ylabel(\"Count\", fontsize=15)\n",
    "plt.tight_layout()\n",
    "plt.show()\n",
    "fig.savefig('Match.jpg')\n"
   ]
  },
  {
   "cell_type": "code",
   "execution_count": null,
   "id": "58483172",
   "metadata": {},
   "outputs": [],
   "source": []
  },
  {
   "cell_type": "code",
   "execution_count": null,
   "id": "3b2a99c9",
   "metadata": {},
   "outputs": [],
   "source": []
  }
 ],
 "metadata": {
  "kernelspec": {
   "display_name": "Python 3",
   "language": "python",
   "name": "python3"
  },
  "language_info": {
   "codemirror_mode": {
    "name": "ipython",
    "version": 3
   },
   "file_extension": ".py",
   "mimetype": "text/x-python",
   "name": "python",
   "nbconvert_exporter": "python",
   "pygments_lexer": "ipython3",
   "version": "3.8.8"
  }
 },
 "nbformat": 4,
 "nbformat_minor": 5
}
